{
 "cells": [
  {
   "cell_type": "code",
   "execution_count": 12,
   "metadata": {},
   "outputs": [
    {
     "data": {
      "text/html": [
       "<div>\n",
       "<style scoped>\n",
       "    .dataframe tbody tr th:only-of-type {\n",
       "        vertical-align: middle;\n",
       "    }\n",
       "\n",
       "    .dataframe tbody tr th {\n",
       "        vertical-align: top;\n",
       "    }\n",
       "\n",
       "    .dataframe thead th {\n",
       "        text-align: right;\n",
       "    }\n",
       "</style>\n",
       "<table border=\"1\" class=\"dataframe\">\n",
       "  <thead>\n",
       "    <tr style=\"text-align: right;\">\n",
       "      <th></th>\n",
       "      <th>('Date', '')</th>\n",
       "      <th>('Adj Close', 'AAPL')</th>\n",
       "      <th>('Close', 'AAPL')</th>\n",
       "      <th>('High', 'AAPL')</th>\n",
       "      <th>('Low', 'AAPL')</th>\n",
       "      <th>('Open', 'AAPL')</th>\n",
       "      <th>('Volume', 'AAPL')</th>\n",
       "    </tr>\n",
       "  </thead>\n",
       "  <tbody>\n",
       "    <tr>\n",
       "      <th>2611</th>\n",
       "      <td>2025-05-21</td>\n",
       "      <td>202.089996</td>\n",
       "      <td>202.089996</td>\n",
       "      <td>207.039993</td>\n",
       "      <td>200.710007</td>\n",
       "      <td>205.169998</td>\n",
       "      <td>59211800</td>\n",
       "    </tr>\n",
       "    <tr>\n",
       "      <th>2612</th>\n",
       "      <td>2025-05-22</td>\n",
       "      <td>201.360001</td>\n",
       "      <td>201.360001</td>\n",
       "      <td>202.750000</td>\n",
       "      <td>199.699997</td>\n",
       "      <td>200.710007</td>\n",
       "      <td>46742400</td>\n",
       "    </tr>\n",
       "    <tr>\n",
       "      <th>2613</th>\n",
       "      <td>2025-05-23</td>\n",
       "      <td>195.270004</td>\n",
       "      <td>195.270004</td>\n",
       "      <td>197.699997</td>\n",
       "      <td>193.460007</td>\n",
       "      <td>193.669998</td>\n",
       "      <td>78432900</td>\n",
       "    </tr>\n",
       "    <tr>\n",
       "      <th>2614</th>\n",
       "      <td>2025-05-27</td>\n",
       "      <td>200.210007</td>\n",
       "      <td>200.210007</td>\n",
       "      <td>200.740005</td>\n",
       "      <td>197.429993</td>\n",
       "      <td>198.300003</td>\n",
       "      <td>56288500</td>\n",
       "    </tr>\n",
       "    <tr>\n",
       "      <th>2615</th>\n",
       "      <td>2025-05-28</td>\n",
       "      <td>200.419998</td>\n",
       "      <td>200.419998</td>\n",
       "      <td>202.729996</td>\n",
       "      <td>199.899994</td>\n",
       "      <td>200.679993</td>\n",
       "      <td>43425800</td>\n",
       "    </tr>\n",
       "  </tbody>\n",
       "</table>\n",
       "</div>"
      ],
      "text/plain": [
       "     ('Date', '')  ('Adj Close', 'AAPL')  ('Close', 'AAPL')  ('High', 'AAPL')  \\\n",
       "2611   2025-05-21             202.089996         202.089996        207.039993   \n",
       "2612   2025-05-22             201.360001         201.360001        202.750000   \n",
       "2613   2025-05-23             195.270004         195.270004        197.699997   \n",
       "2614   2025-05-27             200.210007         200.210007        200.740005   \n",
       "2615   2025-05-28             200.419998         200.419998        202.729996   \n",
       "\n",
       "      ('Low', 'AAPL')  ('Open', 'AAPL')  ('Volume', 'AAPL')  \n",
       "2611       200.710007        205.169998            59211800  \n",
       "2612       199.699997        200.710007            46742400  \n",
       "2613       193.460007        193.669998            78432900  \n",
       "2614       197.429993        198.300003            56288500  \n",
       "2615       199.899994        200.679993            43425800  "
      ]
     },
     "execution_count": 12,
     "metadata": {},
     "output_type": "execute_result"
    }
   ],
   "source": [
    "import pandas as pd\n",
    "\n",
    "df = pd.read_parquet(\"/Users/alvaroriverofernandezdelarrea/Desktop/PROYECTOS/proyecto_inversor_inteligente/data/historical/AAPL.parquet\")\n",
    "df.tail()\n"
   ]
  },
  {
   "cell_type": "code",
   "execution_count": null,
   "metadata": {},
   "outputs": [],
   "source": []
  },
  {
   "cell_type": "code",
   "execution_count": 14,
   "metadata": {},
   "outputs": [
    {
     "name": "stdout",
     "output_type": "stream",
     "text": [
      "{\n",
      "    \"profile\": [\n",
      "        {\n",
      "            \"symbol\": \"AAPL\",\n",
      "            \"price\": 200.42,\n",
      "            \"beta\": 1.275,\n",
      "            \"volAvg\": 62497333,\n",
      "            \"mktCap\": 2993433036000,\n",
      "            \"lastDiv\": 1.01,\n",
      "            \"range\": \"169.21-260.1\",\n",
      "            \"changes\": 0.21,\n",
      "            \"companyName\": \"Apple Inc.\",\n",
      "            \"currency\": \"USD\",\n",
      "            \"cik\": \"0000320193\",\n",
      "            \"isin\": \"US0378331005\",\n",
      "            \"cusip\": \"037833100\",\n",
      "            \"exchange\": \"NASDAQ Global Select\",\n",
      "            \"exchangeShortName\": \"NASDAQ\",\n",
      "            \"industry\": \"Consumer Electronics\",\n",
      "            \"website\": \"https://www.apple.com\",\n",
      "            \"description\": \"Apple Inc. designs, manufactures, and markets smartphones, personal computers, tablets, wearables, and accessories worldwide. The company offers iPhone, a line of smartphones; Mac, a line of personal computers; iPad, a line of multi-purpose tablets; and wearables, home, and accessories comprising AirPods, Apple TV, Apple Watch, B\n"
     ]
    }
   ],
   "source": [
    "import json\n",
    "import os\n",
    "\n",
    "# Ruta al archivo JSON\n",
    "filepath = \"/Users/alvaroriverofernandezdelarrea/Desktop/PROYECTOS/proyecto_inversor_inteligente/data/fundamentals/AAPL.json\"\n",
    "\n",
    "# Leer el archivo JSON\n",
    "with open(filepath, 'r') as f:\n",
    "    data = json.load(f)\n",
    "\n",
    "# Ver estructura (ejemplo)\n",
    "print(json.dumps(data, indent=4)[:1000])  # imprime primeros 1000 caracteres para ver la estructura\n"
   ]
  },
  {
   "cell_type": "code",
   "execution_count": null,
   "metadata": {},
   "outputs": [],
   "source": [
    "import pandas as pd\n",
    "\n",
    "# Por ejemplo, convertir ratios en DataFrame\n",
    "ratios_df = pd.DataFrame(data[\"ratios\"])\n",
    "print(ratios_df.head())\n",
    "\n",
    "# Lo mismo con income_statement\n",
    "income_df = pd.DataFrame(data[\"income_statement\"])\n",
    "print(income_df.head())\n",
    "\n",
    "# Balance sheet\n",
    "balance_df = pd.DataFrame(data[\"balance_sheet\"])\n",
    "print(balance_df.head())\n"
   ]
  },
  {
   "cell_type": "code",
   "execution_count": 15,
   "metadata": {},
   "outputs": [
    {
     "name": "stdout",
     "output_type": "stream",
     "text": [
      "  symbol        date calendarYear period  currentRatio  quickRatio  cashRatio  \\\n",
      "0   AAPL  2024-09-28         2024     FY      0.867313    0.826007   0.169753   \n",
      "1   AAPL  2023-09-30         2023     FY      0.988012    0.944442   0.206217   \n",
      "2   AAPL  2022-09-24         2022     FY      0.879356    0.847235   0.153563   \n",
      "3   AAPL  2021-09-25         2021     FY      1.074553    1.022115   0.278449   \n",
      "4   AAPL  2020-09-26         2020     FY      1.363604    1.325072   0.360710   \n",
      "\n",
      "   daysOfSalesOutstanding  daysOfInventoryOutstanding  operatingCycle  ...  \\\n",
      "0               61.832560                   12.642571       74.475130  ...   \n",
      "1               58.075649                   10.791292       68.866941  ...   \n",
      "2               56.400205                    8.075698       64.475903  ...   \n",
      "3               51.390969                   11.276593       62.667561  ...   \n",
      "4               49.787534                    8.741883       58.529418  ...   \n",
      "\n",
      "   priceToSalesRatio  priceEarningsRatio  priceToFreeCashFlowsRatio  \\\n",
      "0           8.938229           37.287278                  32.122569   \n",
      "1           7.032808           27.790812                  27.068302   \n",
      "2           6.186138           24.441824                  21.888924   \n",
      "3           6.707591           25.916254                  26.397759   \n",
      "4           7.097229           33.935934                  26.556204   \n",
      "\n",
      "   priceToOperatingCashFlowsRatio  priceCashFlowRatio  \\\n",
      "0                       29.556381           29.556381   \n",
      "1                       24.384808           24.384808   \n",
      "2                       19.970097           19.970097   \n",
      "3                       23.585141           23.585141   \n",
      "4                       24.150233           24.150233   \n",
      "\n",
      "   priceEarningsToGrowthRatio  priceSalesRatio  dividendYield  \\\n",
      "0                  -45.937927         8.938229       0.004359   \n",
      "1                  170.913493         7.032808       0.005574   \n",
      "2                    2.887190         6.186138       0.006084   \n",
      "3                    0.363486         6.707591       0.005896   \n",
      "4                    3.170889         7.097229       0.007227   \n",
      "\n",
      "   enterpriseValueMultiple  priceFairValue  \n",
      "0                26.524727       61.372438  \n",
      "1                22.068771       43.374791  \n",
      "2                19.520314       48.140340  \n",
      "3                20.752119       38.892865  \n",
      "4                25.087113       29.818270  \n",
      "\n",
      "[5 rows x 58 columns]\n"
     ]
    }
   ],
   "source": [
    "# Por ejemplo, convertir ratios en DataFrame\n",
    "ratios_df = pd.DataFrame(data[\"ratios\"])\n",
    "print(ratios_df.head())\n"
   ]
  },
  {
   "cell_type": "code",
   "execution_count": 16,
   "metadata": {},
   "outputs": [
    {
     "name": "stdout",
     "output_type": "stream",
     "text": [
      "PE Ratio: 37.287278415656736\n",
      "Deuda/Capital: 1.872326602282704\n",
      "No cumple criterio\n"
     ]
    }
   ],
   "source": [
    "# Tomamos la fila más reciente de ratios (último año)\n",
    "latest_ratios = ratios_df.iloc[0]\n",
    "\n",
    "pe_ratio = latest_ratios.get(\"priceEarningsRatio\")\n",
    "debt_to_equity = latest_ratios.get(\"debtEquityRatio\")\n",
    "\n",
    "print(f\"PE Ratio: {pe_ratio}\")\n",
    "print(f\"Deuda/Capital: {debt_to_equity}\")\n",
    "\n",
    "# Ejemplo de filtro\n",
    "if pe_ratio is not None and debt_to_equity is not None:\n",
    "    if pe_ratio < 15 and debt_to_equity < 1:\n",
    "        print(\"Cumple criterio de Graham: PE bajo y deuda baja\")\n",
    "    else:\n",
    "        print(\"No cumple criterio\")\n"
   ]
  }
 ],
 "metadata": {
  "kernelspec": {
   "display_name": ".venv",
   "language": "python",
   "name": "python3"
  },
  "language_info": {
   "codemirror_mode": {
    "name": "ipython",
    "version": 3
   },
   "file_extension": ".py",
   "mimetype": "text/x-python",
   "name": "python",
   "nbconvert_exporter": "python",
   "pygments_lexer": "ipython3",
   "version": "3.9.6"
  }
 },
 "nbformat": 4,
 "nbformat_minor": 2
}
