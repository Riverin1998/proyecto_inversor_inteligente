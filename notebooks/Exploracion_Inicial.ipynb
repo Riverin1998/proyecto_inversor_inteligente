{
 "cells": [
  {
   "cell_type": "code",
   "execution_count": 4,
   "id": "366442bc",
   "metadata": {},
   "outputs": [
    {
     "name": "stdout",
     "output_type": "stream",
     "text": [
      "Index(['ticker', 'year', 'EPS', 'BVPS', 'P/E', 'P/B', 'ROE', 'Debt/Equity',\n",
      "       'Current Ratio', 'Dividend Yield', 'Net Margin', 'Graham Number',\n",
      "       'EPS Growth (%)'],\n",
      "      dtype='object')\n",
      "  ticker  year   EPS       BVPS        P/E        P/B       ROE  Debt/Equity  \\\n",
      "0      A  2020  2.33  15.770227  43.874562   6.473591  0.147548     0.484096   \n",
      "1      A  2021  3.98  17.726974  39.459702   8.859944  0.224531     0.506402   \n",
      "2      A  2022  4.19  17.742475  32.987759   7.797672  0.236381     0.521960   \n",
      "3      A  2023  4.22  19.880952  24.508694   5.199449  0.212147     0.467921   \n",
      "4      A  2024  4.44  20.337931  29.317223   6.407240  0.218549     0.574771   \n",
      "5   AAPL  2020  3.31   3.765477  33.935934  29.818270  0.878664     1.871440   \n",
      "6   AAPL  2021  5.67   3.777557  25.916254  38.892865  1.500713     2.163925   \n",
      "7   AAPL  2022  6.15   3.124822  24.441824  48.140340  1.969589     2.614462   \n",
      "8   AAPL  2023  6.16   3.947224  27.790812  43.374791  1.560760     1.787533   \n",
      "9   AAPL  2024  6.11   3.711601  37.287278  61.372438  1.645935     1.872327   \n",
      "\n",
      "   Current Ratio  Dividend Yield  Net Margin  Graham Number  EPS Growth (%)  \n",
      "0       2.327880        0.007037    0.134669      28.753332             NaN  \n",
      "1       2.224239        0.004943    0.191486      39.842822           70.82  \n",
      "2       2.030091        0.006044    0.183119      40.898311            5.28  \n",
      "3       2.611354        0.008720    0.181472      43.447629            0.72  \n",
      "4       2.089182        0.007251    0.198003      45.075041            5.21  \n",
      "5       1.363604        0.007227    0.209136      16.746160             NaN  \n",
      "6       1.074553        0.005896    0.258818      21.952717           71.30  \n",
      "7       0.879356        0.006084    0.253096      20.794164            8.47  \n",
      "8       0.988012        0.005574    0.253062      23.389852            0.16  \n",
      "9       0.867313        0.004359    0.239713      22.588766           -0.81  \n"
     ]
    }
   ],
   "source": [
    "import pandas as pd\n",
    "\n",
    "# Cargar el CSV generado\n",
    "df = pd.read_csv('/Users/alvaroriverofernandezdelarrea/Desktop/PROYECTOS/proyecto_inversor_inteligente/data/processed/fundamentals_evolucion.csv')\n",
    "\n",
    "# Verifica qué columnas hay\n",
    "print(df.columns)\n",
    "print(df.head(10))\n",
    "\n"
   ]
  }
 ],
 "metadata": {
  "kernelspec": {
   "display_name": ".venv",
   "language": "python",
   "name": "python3"
  },
  "language_info": {
   "codemirror_mode": {
    "name": "ipython",
    "version": 3
   },
   "file_extension": ".py",
   "mimetype": "text/x-python",
   "name": "python",
   "nbconvert_exporter": "python",
   "pygments_lexer": "ipython3",
   "version": "3.9.6"
  }
 },
 "nbformat": 4,
 "nbformat_minor": 5
}
